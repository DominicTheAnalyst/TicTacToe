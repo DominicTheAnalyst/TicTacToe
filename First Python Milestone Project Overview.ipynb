{
 "cells": [
  {
   "cell_type": "markdown",
   "source": [
    "You now know enough to create a real program!\n",
    "For your first milestone project you will create a Tic Tac Toe game for 2 human players\n",
    "Let's describe what the will be like:\n",
    "    2 players should be able to play the game (both sitting at the same computer)\n",
    "    The board should be printed out every time a player makes a move\n",
    "    You should be able to accept input of the player position and then place a symbol on the board\n",
    "\n",
    "We will use the 'numpad' to match numbers to the grid on a tic tac toe board\n",
    "                    7   8   9\n",
    "                    4   5   3\n",
    "                    1   2   3\n",
    "\n",
    "Creating your first full program is always a big leap, but you will come out the other end a much better programmer!\n",
    "We've set up a walkthrough notebook for you to help guide you along with the functions you will need to create"
   ],
   "metadata": {
    "collapsed": false,
    "pycharm": {
     "name": "#%% md\n"
    }
   }
  }
 ],
 "metadata": {
  "kernelspec": {
   "display_name": "Python 3",
   "language": "python",
   "name": "python3"
  },
  "language_info": {
   "codemirror_mode": {
    "name": "ipython",
    "version": 2
   },
   "file_extension": ".py",
   "mimetype": "text/x-python",
   "name": "python",
   "nbconvert_exporter": "python",
   "pygments_lexer": "ipython2",
   "version": "2.7.6"
  }
 },
 "nbformat": 4,
 "nbformat_minor": 0
}