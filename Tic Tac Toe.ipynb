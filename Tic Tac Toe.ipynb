{
 "cells": [
  {
   "cell_type": "markdown",
   "source": [
    "We want to break these up into steps and then bring together to make a running program"
   ],
   "metadata": {
    "collapsed": false,
    "pycharm": {
     "name": "#%% md\n"
    }
   }
  },
  {
   "cell_type": "code",
   "execution_count": 80,
   "outputs": [],
   "source": [
    "#Import library to help clear outputs\n",
    "from IPython.display import clear_output\n",
    "#Step 1: Print Tic Tac Toe Board\n",
    "def display_board(board):\n",
    "\n",
    "    clear_output()\n",
    "\n",
    "    #We need a 3x3 cell per cell or 9 items in a list across\n",
    "    print(f\"       |       |     \\n   {board[7]}   |   {board[8]}   |   {board[9]} \\n       |       |     \\n - - - | - - - | - - -\\n\"\n",
    "          f\"       |       |     \\n   {board[4]}   |   {board[5]}   |   {board[6]} \\n       |       |     \\n - - - | - - - | - - -\\n\"\n",
    "          f\"       |       |     \\n   {board[1]}   |   {board[2]}   |   {board[3]} \\n       |       |     \")"
   ],
   "metadata": {
    "collapsed": false,
    "pycharm": {
     "name": "#%%\n"
    }
   }
  },
  {
   "cell_type": "code",
   "execution_count": 81,
   "outputs": [
    {
     "name": "stdout",
     "output_type": "stream",
     "text": [
      "       |       |     \n",
      "   X   |   O   |   X \n",
      "       |       |     \n",
      " - - - | - - - | - - -\n",
      "       |       |     \n",
      "   O   |   X   |   O \n",
      "       |       |     \n",
      " - - - | - - - | - - -\n",
      "       |       |     \n",
      "   O   |   O   |   X \n",
      "       |       |     \n"
     ]
    }
   ],
   "source": [
    "test_board = ['Free Space','O','O','X','O','X','O','X','O','X']\n",
    "display_board(test_board)"
   ],
   "metadata": {
    "collapsed": false,
    "pycharm": {
     "name": "#%%\n"
    }
   }
  },
  {
   "cell_type": "code",
   "execution_count": 82,
   "outputs": [],
   "source": [
    "#Step 2: Make player input as 'X' or 'O' with validation\n",
    "def player_input():\n",
    "\n",
    "    #Initial Variable\n",
    "    choice = 'This is not a valid value!'\n",
    "    acceptable_choice = ['X','O']\n",
    "    player1 = ''\n",
    "    player2 = ''\n",
    "\n",
    "    #Acceptable Choice Check\n",
    "    while choice not in acceptable_choice:\n",
    "\n",
    "        choice = input(\"What does Player 1 want to play as? 'X' or 'O'\")\n",
    "\n",
    "        #Alphabet Check\n",
    "        if choice not in acceptable_choice:\n",
    "\n",
    "            print(\"Sorry that is not 'X' or 'O' \")\n",
    "\n",
    "    if choice == 'X':\n",
    "\n",
    "        #Player 1 has chosen X\n",
    "        player1 = 'X'\n",
    "        player2 = 'O'\n",
    "        print(f\"Player 1 chose to be '{player1}', therefore Player 2 is '{player2}'\")\n",
    "        return player1, player2\n",
    "    else:\n",
    "\n",
    "        #Player 1 has chosen O\n",
    "        player1 = 'O'\n",
    "        player2 = 'X'\n",
    "        print(f\"Player 1 chose to be '{player1}', therefore Player 2 is '{player2}'\")\n",
    "        return player1, player2"
   ],
   "metadata": {
    "collapsed": false,
    "pycharm": {
     "name": "#%%\n"
    }
   }
  },
  {
   "cell_type": "code",
   "execution_count": 83,
   "outputs": [
    {
     "name": "stdout",
     "output_type": "stream",
     "text": [
      "Player 1 chose to be 'X', therefore Player 2 is 'O'\n"
     ]
    },
    {
     "data": {
      "text/plain": "('X', 'O')"
     },
     "execution_count": 83,
     "metadata": {},
     "output_type": "execute_result"
    }
   ],
   "source": [
    "player_input()"
   ],
   "metadata": {
    "collapsed": false,
    "pycharm": {
     "name": "#%%\n"
    }
   }
  },
  {
   "cell_type": "code",
   "execution_count": 50,
   "outputs": [],
   "source": [
    "#Step 3: Make a function to take in the board list, marker, and desired position\n",
    "def place_marker(board, marker, position):\n",
    "\n",
    "    #Initial Variable\n",
    "    position_range = [1,2,3,4,5,6,7,8,9]\n",
    "\n",
    "    #Acceptable Marker Choice\n",
    "    while position not in position_range:\n",
    "\n",
    "        #Getting input 1-9 to place marker\n",
    "        position = input('Pick a position on the board to place your piece in range: (1-9)')\n",
    "\n",
    "        if position not in position_range:\n",
    "\n",
    "            #If choice is not in range\n",
    "            print(\"Sorry, but that choice is out of range on the board!\")\n",
    "\n",
    "        elif position in position_range and board[position] != '':\n",
    "\n",
    "            #If choice is already taken\n",
    "            print(\"Sorry, but that position has already been filled in!\")\n",
    "\n",
    "    #Choice is correct\n",
    "    print(\"Thank you for correctly inserting your marker in an open position\")\n",
    "    board[position] = marker"
   ],
   "metadata": {
    "collapsed": false,
    "pycharm": {
     "name": "#%%\n"
    }
   }
  },
  {
   "cell_type": "code",
   "execution_count": 51,
   "outputs": [
    {
     "name": "stdout",
     "output_type": "stream",
     "text": [
      "Thank you for correctly inserting your marker in an open position\n",
      "       |       |     \n",
      "   X   |   $   |   X \n",
      "       |       |     \n",
      " - - - | - - - | - - -\n",
      "       |       |     \n",
      "   O   |   X   |   O \n",
      "       |       |     \n",
      " - - - | - - - | - - -\n",
      "       |       |     \n",
      "   O   |   O   |   X \n",
      "       |       |     \n"
     ]
    }
   ],
   "source": [
    "place_marker(test_board,'$',8)\n",
    "display_board(test_board)"
   ],
   "metadata": {
    "collapsed": false,
    "pycharm": {
     "name": "#%%\n"
    }
   }
  },
  {
   "cell_type": "code",
   "execution_count": 52,
   "outputs": [
    {
     "name": "stdout",
     "output_type": "stream",
     "text": [
      "Thank you for correctly inserting your marker in an open position\n",
      "       |       |     \n",
      "   X   |   $   |   X \n",
      "       |       |     \n",
      " - - - | - - - | - - -\n",
      "       |       |     \n",
      "   O   |   $   |   O \n",
      "       |       |     \n",
      " - - - | - - - | - - -\n",
      "       |       |     \n",
      "   O   |   O   |   X \n",
      "       |       |     \n"
     ]
    }
   ],
   "source": [
    "place_marker(test_board,'$',5)\n",
    "display_board(test_board)"
   ],
   "metadata": {
    "collapsed": false,
    "pycharm": {
     "name": "#%%\n"
    }
   }
  },
  {
   "cell_type": "code",
   "execution_count": 67,
   "outputs": [],
   "source": [
    "import random\n",
    "\n",
    "#Step 5: Picking a random player to go first\n",
    "def choose_first():\n",
    "\n",
    "    #Initial Variable\n",
    "    who_goes_first = random.randint(1,2)\n",
    "\n",
    "    #2 options\n",
    "    if who_goes_first == 1:\n",
    "\n",
    "        return('Player 1')\n",
    "\n",
    "    else:\n",
    "\n",
    "        return('Player 2')"
   ],
   "metadata": {
    "collapsed": false,
    "pycharm": {
     "name": "#%%\n"
    }
   }
  },
  {
   "cell_type": "code",
   "execution_count": 68,
   "outputs": [
    {
     "data": {
      "text/plain": "'Player 2'"
     },
     "execution_count": 68,
     "metadata": {},
     "output_type": "execute_result"
    }
   ],
   "source": [
    "choose_first()"
   ],
   "metadata": {
    "collapsed": false,
    "pycharm": {
     "name": "#%%\n"
    }
   }
  },
  {
   "cell_type": "code",
   "execution_count": 69,
   "outputs": [],
   "source": [
    "#Step 6: Indicate whether there is a free space on the board\n",
    "def space_check(board, position):\n",
    "\n",
    "    return board[position] == ' '"
   ],
   "metadata": {
    "collapsed": false,
    "pycharm": {
     "name": "#%%\n"
    }
   }
  },
  {
   "cell_type": "code",
   "execution_count": 70,
   "outputs": [
    {
     "data": {
      "text/plain": "False"
     },
     "execution_count": 70,
     "metadata": {},
     "output_type": "execute_result"
    }
   ],
   "source": [
    "space_check(test_board,2)"
   ],
   "metadata": {
    "collapsed": false,
    "pycharm": {
     "name": "#%%\n"
    }
   }
  },
  {
   "cell_type": "code",
   "execution_count": 71,
   "outputs": [],
   "source": [
    "#Step 7: Check if board is full\n",
    "def full_board_check(board):\n",
    "\n",
    "    for i in range(1,10):\n",
    "\n",
    "        if space_check(board, i):\n",
    "\n",
    "            return False\n",
    "\n",
    "    return True"
   ],
   "metadata": {
    "collapsed": false,
    "pycharm": {
     "name": "#%%\n"
    }
   }
  },
  {
   "cell_type": "code",
   "execution_count": 72,
   "outputs": [
    {
     "data": {
      "text/plain": "True"
     },
     "execution_count": 72,
     "metadata": {},
     "output_type": "execute_result"
    }
   ],
   "source": [
    "full_board_check(test_board)"
   ],
   "metadata": {
    "collapsed": false,
    "pycharm": {
     "name": "#%%\n"
    }
   }
  },
  {
   "cell_type": "code",
   "execution_count": 73,
   "outputs": [],
   "source": [
    "#Step 4: Check the board with a mark for a winner\n",
    "def win_check(board, mark):\n",
    "\n",
    "    #Initial Values\n",
    "    win = False\n",
    "\n",
    "    #Check for a winner\n",
    "    while win is False:\n",
    "\n",
    "        #Multiple checks\n",
    "        if board[1] == board[2] == board[3] == mark:\n",
    "            win = True\n",
    "            condition1 = 'You won by connecting pieces 1,2,3'\n",
    "\n",
    "        elif board[4] == board[5] == board[6] == mark:\n",
    "            win = True\n",
    "            condition1 = 'You won by connecting pieces 4,5,6'\n",
    "\n",
    "        elif board[7] == board[8] == board[9] == mark:\n",
    "            win = True\n",
    "            condition1 = 'You won by connecting pieces 7,8,9'\n",
    "\n",
    "        elif board[1] == board[4] == board[7] == mark:\n",
    "            win = True\n",
    "            condition1 = 'You won by connecting pieces 1,4,7'\n",
    "\n",
    "        elif board[2] == board[5] == board[8] == mark:\n",
    "            win = True\n",
    "            condition1 = 'You won by connecting pieces 2,5,8'\n",
    "\n",
    "        elif board[3] == board[6] == board[9] == mark:\n",
    "            win = True\n",
    "            condition1 = 'You won by connecting pieces 3,6,9'\n",
    "\n",
    "        elif board[1] == board[5] == board[9] == mark:\n",
    "            win = True\n",
    "            condition1 = 'You won by connecting pieces 1,5,9'\n",
    "\n",
    "        elif board[3] == board[5] == board[7] == mark:\n",
    "            win = True\n",
    "            condition1 = 'You won by connecting pieces 3,5,7'\n",
    "\n",
    "        else:\n",
    "            break\n",
    "\n",
    "    return win"
   ],
   "metadata": {
    "collapsed": false,
    "pycharm": {
     "name": "#%%\n"
    }
   }
  },
  {
   "cell_type": "code",
   "execution_count": 74,
   "outputs": [
    {
     "data": {
      "text/plain": "False"
     },
     "execution_count": 74,
     "metadata": {},
     "output_type": "execute_result"
    }
   ],
   "source": [
    "win_check(test_board,'X')"
   ],
   "metadata": {
    "collapsed": false,
    "pycharm": {
     "name": "#%%\n"
    }
   }
  },
  {
   "cell_type": "code",
   "execution_count": 84,
   "outputs": [],
   "source": [
    "#Step 8: Ask for player's next position then use step 6 to check if free, if so return position\n",
    "def player_choice(board):\n",
    "    position = 0\n",
    "\n",
    "    while position not in [1,2,3,4,5,6,7,8,9] or not space_check(board, position):\n",
    "        position = int(input('Choose your next position: (1-9) '))\n",
    "\n",
    "    return position"
   ],
   "metadata": {
    "collapsed": false,
    "pycharm": {
     "name": "#%%\n"
    }
   }
  },
  {
   "cell_type": "code",
   "execution_count": 85,
   "outputs": [
    {
     "ename": "ValueError",
     "evalue": "invalid literal for int() with base 10: ''",
     "output_type": "error",
     "traceback": [
      "\u001B[1;31m---------------------------------------------------------------------------\u001B[0m",
      "\u001B[1;31mValueError\u001B[0m                                Traceback (most recent call last)",
      "Input \u001B[1;32mIn [85]\u001B[0m, in \u001B[0;36m<cell line: 1>\u001B[1;34m()\u001B[0m\n\u001B[1;32m----> 1\u001B[0m \u001B[43mplayer_choice\u001B[49m\u001B[43m(\u001B[49m\u001B[43mtest_board\u001B[49m\u001B[43m)\u001B[49m\n",
      "Input \u001B[1;32mIn [84]\u001B[0m, in \u001B[0;36mplayer_choice\u001B[1;34m(board)\u001B[0m\n\u001B[0;32m      3\u001B[0m position \u001B[38;5;241m=\u001B[39m \u001B[38;5;241m0\u001B[39m\n\u001B[0;32m      5\u001B[0m \u001B[38;5;28;01mwhile\u001B[39;00m position \u001B[38;5;129;01mnot\u001B[39;00m \u001B[38;5;129;01min\u001B[39;00m [\u001B[38;5;241m1\u001B[39m,\u001B[38;5;241m2\u001B[39m,\u001B[38;5;241m3\u001B[39m,\u001B[38;5;241m4\u001B[39m,\u001B[38;5;241m5\u001B[39m,\u001B[38;5;241m6\u001B[39m,\u001B[38;5;241m7\u001B[39m,\u001B[38;5;241m8\u001B[39m,\u001B[38;5;241m9\u001B[39m] \u001B[38;5;129;01mor\u001B[39;00m \u001B[38;5;129;01mnot\u001B[39;00m space_check(board, position):\n\u001B[1;32m----> 6\u001B[0m     position \u001B[38;5;241m=\u001B[39m \u001B[38;5;28;43mint\u001B[39;49m\u001B[43m(\u001B[49m\u001B[38;5;28;43minput\u001B[39;49m\u001B[43m(\u001B[49m\u001B[38;5;124;43m'\u001B[39;49m\u001B[38;5;124;43mChoose your next position: (1-9) \u001B[39;49m\u001B[38;5;124;43m'\u001B[39;49m\u001B[43m)\u001B[49m\u001B[43m)\u001B[49m\n\u001B[0;32m      8\u001B[0m \u001B[38;5;28;01mreturn\u001B[39;00m position\n",
      "\u001B[1;31mValueError\u001B[0m: invalid literal for int() with base 10: ''"
     ]
    }
   ],
   "source": [
    "player_choice(test_board)"
   ],
   "metadata": {
    "collapsed": false,
    "pycharm": {
     "name": "#%%\n"
    }
   }
  },
  {
   "cell_type": "code",
   "execution_count": 77,
   "outputs": [],
   "source": [
    "#Step 9: Ask if they want to play again\n",
    "def replay():\n",
    "\n",
    "    answer = 'No'\n",
    "\n",
    "    while answer is not True:\n",
    "\n",
    "        play = input('Do you want to play again? Y or N')\n",
    "\n",
    "        if play == 'Y':\n",
    "\n",
    "            print('You do want to play again')\n",
    "            return True\n",
    "\n",
    "        else:\n",
    "\n",
    "            return False"
   ],
   "metadata": {
    "collapsed": false,
    "pycharm": {
     "name": "#%%\n"
    }
   }
  },
  {
   "cell_type": "code",
   "execution_count": 78,
   "outputs": [
    {
     "data": {
      "text/plain": "False"
     },
     "execution_count": 78,
     "metadata": {},
     "output_type": "execute_result"
    }
   ],
   "source": [
    "replay()"
   ],
   "metadata": {
    "collapsed": false,
    "pycharm": {
     "name": "#%%\n"
    }
   }
  },
  {
   "cell_type": "code",
   "execution_count": 87,
   "outputs": [
    {
     "name": "stdout",
     "output_type": "stream",
     "text": [
      "       |       |     \n",
      "   X   |       |     \n",
      "       |       |     \n",
      " - - - | - - - | - - -\n",
      "       |       |     \n",
      "   X   |       |     \n",
      "       |       |     \n",
      " - - - | - - - | - - -\n",
      "       |       |     \n",
      "   X   |   O   |   O \n",
      "       |       |     \n",
      "Congratulations! You won the game\n"
     ]
    }
   ],
   "source": [
    "print('Welcome to Tic Tac Toe!')\n",
    "\n",
    "while True:\n",
    "    #Reset Board\n",
    "    board = [' ']*10\n",
    "\n",
    "    #Pick who goes first\n",
    "    turn = choose_first()\n",
    "\n",
    "    #Pick piece\n",
    "    player1_marker, player2_marker = player_input()\n",
    "\n",
    "    print(f\"{turn} will go first.\")\n",
    "\n",
    "    play_game = input('Are you ready to play? Y or N')\n",
    "\n",
    "    if play_game == 'Y':\n",
    "        game_on = True\n",
    "    else:\n",
    "        game_on = False\n",
    "\n",
    "    while game_on:\n",
    "\n",
    "        if turn == 'Player 1':\n",
    "\n",
    "            display_board(board)\n",
    "            position = player_choice(board)\n",
    "            place_marker(board,player1_marker,position)\n",
    "\n",
    "            if win_check(board, player1_marker):\n",
    "                display_board(board)\n",
    "                print('Congratulations! You won the game')\n",
    "                game_on = False\n",
    "\n",
    "            else:\n",
    "\n",
    "                if full_board_check(board):\n",
    "                    display_board(board)\n",
    "                    print('The game is a draw!')\n",
    "                    break\n",
    "\n",
    "                else:\n",
    "                    turn = 'Player 2'\n",
    "\n",
    "        else: #Player 2 turn\n",
    "            display_board(board)\n",
    "            position = player_choice(board)\n",
    "            place_marker(board,player2_marker,position)\n",
    "\n",
    "            if win_check(board, player2_marker):\n",
    "                display_board(board)\n",
    "                print('Congratulations! You won the game')\n",
    "                game_on = False\n",
    "\n",
    "            else:\n",
    "\n",
    "                if full_board_check(board):\n",
    "                    display_board(board)\n",
    "                    print('The game is a draw!')\n",
    "                    break\n",
    "\n",
    "                else:\n",
    "                    turn = 'Player 1'\n",
    "\n",
    "    if not replay():\n",
    "        break"
   ],
   "metadata": {
    "collapsed": false,
    "pycharm": {
     "name": "#%%\n"
    }
   }
  },
  {
   "cell_type": "code",
   "execution_count": null,
   "outputs": [],
   "source": [],
   "metadata": {
    "collapsed": false,
    "pycharm": {
     "name": "#%%\n"
    }
   }
  }
 ],
 "metadata": {
  "kernelspec": {
   "display_name": "Python 3",
   "language": "python",
   "name": "python3"
  },
  "language_info": {
   "codemirror_mode": {
    "name": "ipython",
    "version": 2
   },
   "file_extension": ".py",
   "mimetype": "text/x-python",
   "name": "python",
   "nbconvert_exporter": "python",
   "pygments_lexer": "ipython2",
   "version": "2.7.6"
  }
 },
 "nbformat": 4,
 "nbformat_minor": 0
}