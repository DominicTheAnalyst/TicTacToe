{
 "cells": [
  {
   "cell_type": "markdown",
   "source": [],
   "metadata": {
    "collapsed": false,
    "pycharm": {
     "name": "#%% md\n"
    }
   }
  },
  {
   "cell_type": "markdown",
   "source": [
    "To put everything together, let's create a simple interactive program\n",
    "\n",
    "The program will:\n",
    "    Display a list\n",
    "    Have a user choose an index position and an input value\n",
    "    Replace value at index position with user's chosen input value\n",
    "    And to have the user be able to exit out of the game"
   ],
   "metadata": {
    "collapsed": false,
    "pycharm": {
     "name": "#%% md\n"
    }
   }
  },
  {
   "cell_type": "code",
   "execution_count": 16,
   "outputs": [],
   "source": [
    "game_list = [0,1,2]"
   ],
   "metadata": {
    "collapsed": false,
    "pycharm": {
     "name": "#%%\n"
    }
   }
  },
  {
   "cell_type": "code",
   "execution_count": 17,
   "outputs": [],
   "source": [
    "def display_game(game_list):\n",
    "    print(f\"Here is the current list: \\n{game_list}\")"
   ],
   "metadata": {
    "collapsed": false,
    "pycharm": {
     "name": "#%%\n"
    }
   }
  },
  {
   "cell_type": "code",
   "execution_count": 18,
   "outputs": [
    {
     "name": "stdout",
     "output_type": "stream",
     "text": [
      "Here is the current list: \n",
      "[0, 1, 2]\n"
     ]
    }
   ],
   "source": [
    "display_game(game_list)"
   ],
   "metadata": {
    "collapsed": false,
    "pycharm": {
     "name": "#%%\n"
    }
   }
  },
  {
   "cell_type": "code",
   "execution_count": 19,
   "outputs": [],
   "source": [
    "def position_choice():\n",
    "\n",
    "    #The original choice value can be anything that isn't an integer\n",
    "    choice = 'Wrong'\n",
    "\n",
    "    #While the choice is not a digit, keep asking for input\n",
    "    while choice not in ['0','1','2']:\n",
    "\n",
    "        #We shouldn't convert here, otherwise we get an error on a wrong  input\n",
    "        choice = input('Pick a position to replace (0,1,2): ')\n",
    "\n",
    "        if choice not in ['0','1','2']:\n",
    "\n",
    "            print('Sorry, but you did not choose a valid position (0,1,2)')\n",
    "\n",
    "    #Optionally you can clear everything after running the function\n",
    "    #clear_output()\n",
    "\n",
    "    #We can convert once the while loop above has confirmed we have a digit\n",
    "    return int(choice)"
   ],
   "metadata": {
    "collapsed": false,
    "pycharm": {
     "name": "#%%\n"
    }
   }
  },
  {
   "cell_type": "code",
   "execution_count": 20,
   "outputs": [
    {
     "name": "stdout",
     "output_type": "stream",
     "text": [
      "Sorry, but you did not choose a valid position (0,1,2)\n",
      "Sorry, but you did not choose a valid position (0,1,2)\n"
     ]
    },
    {
     "data": {
      "text/plain": "1"
     },
     "execution_count": 20,
     "metadata": {},
     "output_type": "execute_result"
    }
   ],
   "source": [
    "position_choice()"
   ],
   "metadata": {
    "collapsed": false,
    "pycharm": {
     "name": "#%%\n"
    }
   }
  },
  {
   "cell_type": "code",
   "execution_count": 21,
   "outputs": [],
   "source": [
    "def replacement_choice(game_list,position):\n",
    "\n",
    "    user_placement = input('Type a string to place at the position')\n",
    "    game_list[position] = user_placement\n",
    "\n",
    "    return game_list"
   ],
   "metadata": {
    "collapsed": false,
    "pycharm": {
     "name": "#%%\n"
    }
   }
  },
  {
   "cell_type": "code",
   "execution_count": 22,
   "outputs": [
    {
     "data": {
      "text/plain": "[0, 'test', 2]"
     },
     "execution_count": 22,
     "metadata": {},
     "output_type": "execute_result"
    }
   ],
   "source": [
    "replacement_choice(game_list,1)"
   ],
   "metadata": {
    "collapsed": false,
    "pycharm": {
     "name": "#%%\n"
    }
   }
  },
  {
   "cell_type": "code",
   "execution_count": 23,
   "outputs": [],
   "source": [
    "def gameon_choice():\n",
    "\n",
    "    #This original choice value can be anything that isn't a Y or N\n",
    "    choice = 'wrong'\n",
    "\n",
    "    #While the choice is not a digit, keep asking for input\n",
    "    while choice not in ['Y','N']:\n",
    "\n",
    "        #We shouldn't convert here, otherwise we get an error on a wrong input\n",
    "        choice = input('Would you like to keep playing? Y or N')\n",
    "\n",
    "        if choice not in ['Y','N']:\n",
    "\n",
    "            print(\"Sorry I didn't understand. Please make sure to choose Y or N\")\n",
    "\n",
    "    if choice == 'Y':\n",
    "        #Game is still on\n",
    "        return True\n",
    "    else:\n",
    "        #Game is over\n",
    "        return False"
   ],
   "metadata": {
    "collapsed": false,
    "pycharm": {
     "name": "#%%\n"
    }
   }
  },
  {
   "cell_type": "code",
   "execution_count": 24,
   "outputs": [
    {
     "name": "stdout",
     "output_type": "stream",
     "text": [
      "Sorry I didn't understand. Please make sure to choose Y or N\n",
      "Sorry I didn't understand. Please make sure to choose Y or N\n"
     ]
    },
    {
     "data": {
      "text/plain": "True"
     },
     "execution_count": 24,
     "metadata": {},
     "output_type": "execute_result"
    }
   ],
   "source": [
    "gameon_choice()"
   ],
   "metadata": {
    "collapsed": false,
    "pycharm": {
     "name": "#%%\n"
    }
   }
  },
  {
   "cell_type": "code",
   "execution_count": 25,
   "outputs": [
    {
     "name": "stdout",
     "output_type": "stream",
     "text": [
      "Here is the current list: \n",
      "[0, 1, 2]\n",
      "Sorry, but you did not choose a valid position (0,1,2)\n",
      "Here is the current list: \n",
      "[0, 'my choice', 2]\n",
      "Here is the current list: \n",
      "[0, 'my choice', 2]\n",
      "Here is the current list: \n",
      "['test', 'my choice', 2]\n"
     ]
    }
   ],
   "source": [
    "#Variable to keep game playing\n",
    "game_on = True\n",
    "\n",
    "#First Game List\n",
    "game_list = [0,1,2]\n",
    "\n",
    "while game_on:\n",
    "\n",
    "    display_game(game_list)\n",
    "\n",
    "    #Have player choose position\n",
    "    position = position_choice()\n",
    "\n",
    "    #Rewrite that position and update game_list\n",
    "    game_list = replacement_choice(game_list,position)\n",
    "\n",
    "    display_game(game_list)\n",
    "\n",
    "    #Ask if you want to keep playing\n",
    "    game_on = gameon_choice()"
   ],
   "metadata": {
    "collapsed": false,
    "pycharm": {
     "name": "#%%\n"
    }
   }
  }
 ],
 "metadata": {
  "kernelspec": {
   "display_name": "Python 3",
   "language": "python",
   "name": "python3"
  },
  "language_info": {
   "codemirror_mode": {
    "name": "ipython",
    "version": 2
   },
   "file_extension": ".py",
   "mimetype": "text/x-python",
   "name": "python",
   "nbconvert_exporter": "python",
   "pygments_lexer": "ipython2",
   "version": "2.7.6"
  }
 },
 "nbformat": 4,
 "nbformat_minor": 0
}